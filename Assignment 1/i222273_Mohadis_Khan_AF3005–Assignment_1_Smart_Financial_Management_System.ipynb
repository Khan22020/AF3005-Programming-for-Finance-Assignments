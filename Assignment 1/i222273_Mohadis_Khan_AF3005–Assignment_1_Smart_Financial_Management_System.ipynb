{
  "nbformat": 4,
  "nbformat_minor": 0,
  "metadata": {
    "colab": {
      "provenance": []
    },
    "kernelspec": {
      "name": "python3",
      "display_name": "Python 3"
    },
    "language_info": {
      "name": "python"
    },
    "widgets": {
      "application/vnd.jupyter.widget-state+json": {
        "68d4a608d1944032a7b44fb9ce72b497": {
          "model_module": "@jupyter-widgets/controls",
          "model_name": "DropdownModel",
          "model_module_version": "1.5.0",
          "state": {
            "_dom_classes": [],
            "_model_module": "@jupyter-widgets/controls",
            "_model_module_version": "1.5.0",
            "_model_name": "DropdownModel",
            "_options_labels": [
              "Employed",
              "Unemployed"
            ],
            "_view_count": null,
            "_view_module": "@jupyter-widgets/controls",
            "_view_module_version": "1.5.0",
            "_view_name": "DropdownView",
            "description": "Employement",
            "description_tooltip": null,
            "disabled": false,
            "index": 0,
            "layout": "IPY_MODEL_9b6757ac32a347f4a06a491ff54983e3",
            "style": "IPY_MODEL_fbdccbe1b9414140ae0d9c2219dc1787"
          }
        },
        "9b6757ac32a347f4a06a491ff54983e3": {
          "model_module": "@jupyter-widgets/base",
          "model_name": "LayoutModel",
          "model_module_version": "1.2.0",
          "state": {
            "_model_module": "@jupyter-widgets/base",
            "_model_module_version": "1.2.0",
            "_model_name": "LayoutModel",
            "_view_count": null,
            "_view_module": "@jupyter-widgets/base",
            "_view_module_version": "1.2.0",
            "_view_name": "LayoutView",
            "align_content": null,
            "align_items": null,
            "align_self": null,
            "border": null,
            "bottom": null,
            "display": null,
            "flex": null,
            "flex_flow": null,
            "grid_area": null,
            "grid_auto_columns": null,
            "grid_auto_flow": null,
            "grid_auto_rows": null,
            "grid_column": null,
            "grid_gap": null,
            "grid_row": null,
            "grid_template_areas": null,
            "grid_template_columns": null,
            "grid_template_rows": null,
            "height": null,
            "justify_content": null,
            "justify_items": null,
            "left": null,
            "margin": null,
            "max_height": null,
            "max_width": null,
            "min_height": null,
            "min_width": null,
            "object_fit": null,
            "object_position": null,
            "order": null,
            "overflow": null,
            "overflow_x": null,
            "overflow_y": null,
            "padding": null,
            "right": null,
            "top": null,
            "visibility": null,
            "width": null
          }
        },
        "fbdccbe1b9414140ae0d9c2219dc1787": {
          "model_module": "@jupyter-widgets/controls",
          "model_name": "DescriptionStyleModel",
          "model_module_version": "1.5.0",
          "state": {
            "_model_module": "@jupyter-widgets/controls",
            "_model_module_version": "1.5.0",
            "_model_name": "DescriptionStyleModel",
            "_view_count": null,
            "_view_module": "@jupyter-widgets/base",
            "_view_module_version": "1.2.0",
            "_view_name": "StyleView",
            "description_width": ""
          }
        },
        "465cb21da36e437bb87cc245accf7bd2": {
          "model_module": "@jupyter-widgets/controls",
          "model_name": "IntTextModel",
          "model_module_version": "1.5.0",
          "state": {
            "_dom_classes": [],
            "_model_module": "@jupyter-widgets/controls",
            "_model_module_version": "1.5.0",
            "_model_name": "IntTextModel",
            "_view_count": null,
            "_view_module": "@jupyter-widgets/controls",
            "_view_module_version": "1.5.0",
            "_view_name": "IntTextView",
            "continuous_update": false,
            "description": "Monthly Income",
            "description_tooltip": null,
            "disabled": false,
            "layout": "IPY_MODEL_76aba034676a42e5959db488e2f1d68b",
            "step": 1,
            "style": "IPY_MODEL_c9013c176a534c8a99df0d4c4b91190e",
            "value": 50000
          }
        },
        "76aba034676a42e5959db488e2f1d68b": {
          "model_module": "@jupyter-widgets/base",
          "model_name": "LayoutModel",
          "model_module_version": "1.2.0",
          "state": {
            "_model_module": "@jupyter-widgets/base",
            "_model_module_version": "1.2.0",
            "_model_name": "LayoutModel",
            "_view_count": null,
            "_view_module": "@jupyter-widgets/base",
            "_view_module_version": "1.2.0",
            "_view_name": "LayoutView",
            "align_content": null,
            "align_items": null,
            "align_self": null,
            "border": null,
            "bottom": null,
            "display": null,
            "flex": null,
            "flex_flow": null,
            "grid_area": null,
            "grid_auto_columns": null,
            "grid_auto_flow": null,
            "grid_auto_rows": null,
            "grid_column": null,
            "grid_gap": null,
            "grid_row": null,
            "grid_template_areas": null,
            "grid_template_columns": null,
            "grid_template_rows": null,
            "height": null,
            "justify_content": null,
            "justify_items": null,
            "left": null,
            "margin": null,
            "max_height": null,
            "max_width": null,
            "min_height": null,
            "min_width": null,
            "object_fit": null,
            "object_position": null,
            "order": null,
            "overflow": null,
            "overflow_x": null,
            "overflow_y": null,
            "padding": null,
            "right": null,
            "top": null,
            "visibility": null,
            "width": null
          }
        },
        "c9013c176a534c8a99df0d4c4b91190e": {
          "model_module": "@jupyter-widgets/controls",
          "model_name": "DescriptionStyleModel",
          "model_module_version": "1.5.0",
          "state": {
            "_model_module": "@jupyter-widgets/controls",
            "_model_module_version": "1.5.0",
            "_model_name": "DescriptionStyleModel",
            "_view_count": null,
            "_view_module": "@jupyter-widgets/base",
            "_view_module_version": "1.2.0",
            "_view_name": "StyleView",
            "description_width": ""
          }
        },
        "7f88545e2ae7429da6ce14cbe90bb2a3": {
          "model_module": "@jupyter-widgets/controls",
          "model_name": "IntSliderModel",
          "model_module_version": "1.5.0",
          "state": {
            "_dom_classes": [],
            "_model_module": "@jupyter-widgets/controls",
            "_model_module_version": "1.5.0",
            "_model_name": "IntSliderModel",
            "_view_count": null,
            "_view_module": "@jupyter-widgets/controls",
            "_view_module_version": "1.5.0",
            "_view_name": "IntSliderView",
            "continuous_update": true,
            "description": "Credit Score",
            "description_tooltip": null,
            "disabled": false,
            "layout": "IPY_MODEL_050d9e7c8a9846eb81fed7f8f1ffad93",
            "max": 1000,
            "min": 300,
            "orientation": "horizontal",
            "readout": true,
            "readout_format": "d",
            "step": 10,
            "style": "IPY_MODEL_bd1c98c20d86476b966ce22d41114c72",
            "value": 700
          }
        },
        "050d9e7c8a9846eb81fed7f8f1ffad93": {
          "model_module": "@jupyter-widgets/base",
          "model_name": "LayoutModel",
          "model_module_version": "1.2.0",
          "state": {
            "_model_module": "@jupyter-widgets/base",
            "_model_module_version": "1.2.0",
            "_model_name": "LayoutModel",
            "_view_count": null,
            "_view_module": "@jupyter-widgets/base",
            "_view_module_version": "1.2.0",
            "_view_name": "LayoutView",
            "align_content": null,
            "align_items": null,
            "align_self": null,
            "border": null,
            "bottom": null,
            "display": null,
            "flex": null,
            "flex_flow": null,
            "grid_area": null,
            "grid_auto_columns": null,
            "grid_auto_flow": null,
            "grid_auto_rows": null,
            "grid_column": null,
            "grid_gap": null,
            "grid_row": null,
            "grid_template_areas": null,
            "grid_template_columns": null,
            "grid_template_rows": null,
            "height": null,
            "justify_content": null,
            "justify_items": null,
            "left": null,
            "margin": null,
            "max_height": null,
            "max_width": null,
            "min_height": null,
            "min_width": null,
            "object_fit": null,
            "object_position": null,
            "order": null,
            "overflow": null,
            "overflow_x": null,
            "overflow_y": null,
            "padding": null,
            "right": null,
            "top": null,
            "visibility": null,
            "width": null
          }
        },
        "bd1c98c20d86476b966ce22d41114c72": {
          "model_module": "@jupyter-widgets/controls",
          "model_name": "SliderStyleModel",
          "model_module_version": "1.5.0",
          "state": {
            "_model_module": "@jupyter-widgets/controls",
            "_model_module_version": "1.5.0",
            "_model_name": "SliderStyleModel",
            "_view_count": null,
            "_view_module": "@jupyter-widgets/base",
            "_view_module_version": "1.2.0",
            "_view_name": "StyleView",
            "description_width": "",
            "handle_color": null
          }
        },
        "2fd079d709114a4cbee0a5a433dc1dba": {
          "model_module": "@jupyter-widgets/controls",
          "model_name": "ButtonModel",
          "model_module_version": "1.5.0",
          "state": {
            "_dom_classes": [],
            "_model_module": "@jupyter-widgets/controls",
            "_model_module_version": "1.5.0",
            "_model_name": "ButtonModel",
            "_view_count": null,
            "_view_module": "@jupyter-widgets/controls",
            "_view_module_version": "1.5.0",
            "_view_name": "ButtonView",
            "button_style": "",
            "description": "Check Eligibility",
            "disabled": false,
            "icon": "",
            "layout": "IPY_MODEL_d8d8ded95d504cf48159d05d3cf15355",
            "style": "IPY_MODEL_4b5a0fadb682495ba1d0af9c39941c96",
            "tooltip": ""
          }
        },
        "d8d8ded95d504cf48159d05d3cf15355": {
          "model_module": "@jupyter-widgets/base",
          "model_name": "LayoutModel",
          "model_module_version": "1.2.0",
          "state": {
            "_model_module": "@jupyter-widgets/base",
            "_model_module_version": "1.2.0",
            "_model_name": "LayoutModel",
            "_view_count": null,
            "_view_module": "@jupyter-widgets/base",
            "_view_module_version": "1.2.0",
            "_view_name": "LayoutView",
            "align_content": null,
            "align_items": null,
            "align_self": null,
            "border": null,
            "bottom": null,
            "display": null,
            "flex": null,
            "flex_flow": null,
            "grid_area": null,
            "grid_auto_columns": null,
            "grid_auto_flow": null,
            "grid_auto_rows": null,
            "grid_column": null,
            "grid_gap": null,
            "grid_row": null,
            "grid_template_areas": null,
            "grid_template_columns": null,
            "grid_template_rows": null,
            "height": null,
            "justify_content": null,
            "justify_items": null,
            "left": null,
            "margin": null,
            "max_height": null,
            "max_width": null,
            "min_height": null,
            "min_width": null,
            "object_fit": null,
            "object_position": null,
            "order": null,
            "overflow": null,
            "overflow_x": null,
            "overflow_y": null,
            "padding": null,
            "right": null,
            "top": null,
            "visibility": null,
            "width": null
          }
        },
        "4b5a0fadb682495ba1d0af9c39941c96": {
          "model_module": "@jupyter-widgets/controls",
          "model_name": "ButtonStyleModel",
          "model_module_version": "1.5.0",
          "state": {
            "_model_module": "@jupyter-widgets/controls",
            "_model_module_version": "1.5.0",
            "_model_name": "ButtonStyleModel",
            "_view_count": null,
            "_view_module": "@jupyter-widgets/base",
            "_view_module_version": "1.2.0",
            "_view_name": "StyleView",
            "button_color": null,
            "font_weight": ""
          }
        },
        "8ae0a2f24ebc4237bb4b13430b86bab0": {
          "model_module": "@jupyter-widgets/output",
          "model_name": "OutputModel",
          "model_module_version": "1.0.0",
          "state": {
            "_dom_classes": [],
            "_model_module": "@jupyter-widgets/output",
            "_model_module_version": "1.0.0",
            "_model_name": "OutputModel",
            "_view_count": null,
            "_view_module": "@jupyter-widgets/output",
            "_view_module_version": "1.0.0",
            "_view_name": "OutputView",
            "layout": "IPY_MODEL_208185d62cb648bf8e2024a1a78387dd",
            "msg_id": "",
            "outputs": [
              {
                "output_type": "stream",
                "name": "stdout",
                "text": [
                  "Customer is eligible at 8% Interest Rate\n"
                ]
              }
            ]
          }
        },
        "208185d62cb648bf8e2024a1a78387dd": {
          "model_module": "@jupyter-widgets/base",
          "model_name": "LayoutModel",
          "model_module_version": "1.2.0",
          "state": {
            "_model_module": "@jupyter-widgets/base",
            "_model_module_version": "1.2.0",
            "_model_name": "LayoutModel",
            "_view_count": null,
            "_view_module": "@jupyter-widgets/base",
            "_view_module_version": "1.2.0",
            "_view_name": "LayoutView",
            "align_content": null,
            "align_items": null,
            "align_self": null,
            "border": null,
            "bottom": null,
            "display": null,
            "flex": null,
            "flex_flow": null,
            "grid_area": null,
            "grid_auto_columns": null,
            "grid_auto_flow": null,
            "grid_auto_rows": null,
            "grid_column": null,
            "grid_gap": null,
            "grid_row": null,
            "grid_template_areas": null,
            "grid_template_columns": null,
            "grid_template_rows": null,
            "height": null,
            "justify_content": null,
            "justify_items": null,
            "left": null,
            "margin": null,
            "max_height": null,
            "max_width": null,
            "min_height": null,
            "min_width": null,
            "object_fit": null,
            "object_position": null,
            "order": null,
            "overflow": null,
            "overflow_x": null,
            "overflow_y": null,
            "padding": null,
            "right": null,
            "top": null,
            "visibility": null,
            "width": null
          }
        },
        "a077195e438441acb2fbabb5ef5452a6": {
          "model_module": "@jupyter-widgets/controls",
          "model_name": "TextModel",
          "model_module_version": "1.5.0",
          "state": {
            "_dom_classes": [],
            "_model_module": "@jupyter-widgets/controls",
            "_model_module_version": "1.5.0",
            "_model_name": "TextModel",
            "_view_count": null,
            "_view_module": "@jupyter-widgets/controls",
            "_view_module_version": "1.5.0",
            "_view_name": "TextView",
            "continuous_update": true,
            "description": "Stock Return(%)",
            "description_tooltip": null,
            "disabled": false,
            "layout": "IPY_MODEL_bb173be624384099bd31c83e8d8263c8",
            "placeholder": "​",
            "style": "IPY_MODEL_dab508289cdf43869d4f475718a67aec",
            "value": "0.04,0.05"
          }
        },
        "bb173be624384099bd31c83e8d8263c8": {
          "model_module": "@jupyter-widgets/base",
          "model_name": "LayoutModel",
          "model_module_version": "1.2.0",
          "state": {
            "_model_module": "@jupyter-widgets/base",
            "_model_module_version": "1.2.0",
            "_model_name": "LayoutModel",
            "_view_count": null,
            "_view_module": "@jupyter-widgets/base",
            "_view_module_version": "1.2.0",
            "_view_name": "LayoutView",
            "align_content": null,
            "align_items": null,
            "align_self": null,
            "border": null,
            "bottom": null,
            "display": null,
            "flex": null,
            "flex_flow": null,
            "grid_area": null,
            "grid_auto_columns": null,
            "grid_auto_flow": null,
            "grid_auto_rows": null,
            "grid_column": null,
            "grid_gap": null,
            "grid_row": null,
            "grid_template_areas": null,
            "grid_template_columns": null,
            "grid_template_rows": null,
            "height": null,
            "justify_content": null,
            "justify_items": null,
            "left": null,
            "margin": null,
            "max_height": null,
            "max_width": null,
            "min_height": null,
            "min_width": null,
            "object_fit": null,
            "object_position": null,
            "order": null,
            "overflow": null,
            "overflow_x": null,
            "overflow_y": null,
            "padding": null,
            "right": null,
            "top": null,
            "visibility": null,
            "width": null
          }
        },
        "dab508289cdf43869d4f475718a67aec": {
          "model_module": "@jupyter-widgets/controls",
          "model_name": "DescriptionStyleModel",
          "model_module_version": "1.5.0",
          "state": {
            "_model_module": "@jupyter-widgets/controls",
            "_model_module_version": "1.5.0",
            "_model_name": "DescriptionStyleModel",
            "_view_count": null,
            "_view_module": "@jupyter-widgets/base",
            "_view_module_version": "1.2.0",
            "_view_name": "StyleView",
            "description_width": ""
          }
        },
        "bc5700fe7aa040b29e04eaceac2ddbdf": {
          "model_module": "@jupyter-widgets/controls",
          "model_name": "ButtonModel",
          "model_module_version": "1.5.0",
          "state": {
            "_dom_classes": [],
            "_model_module": "@jupyter-widgets/controls",
            "_model_module_version": "1.5.0",
            "_model_name": "ButtonModel",
            "_view_count": null,
            "_view_module": "@jupyter-widgets/controls",
            "_view_module_version": "1.5.0",
            "_view_name": "ButtonView",
            "button_style": "",
            "description": "DO Risk Assessment",
            "disabled": false,
            "icon": "",
            "layout": "IPY_MODEL_c4c84033e6184fd583c0241f0124ada5",
            "style": "IPY_MODEL_60d7dca2d57140d593581bf159064aa3",
            "tooltip": ""
          }
        },
        "c4c84033e6184fd583c0241f0124ada5": {
          "model_module": "@jupyter-widgets/base",
          "model_name": "LayoutModel",
          "model_module_version": "1.2.0",
          "state": {
            "_model_module": "@jupyter-widgets/base",
            "_model_module_version": "1.2.0",
            "_model_name": "LayoutModel",
            "_view_count": null,
            "_view_module": "@jupyter-widgets/base",
            "_view_module_version": "1.2.0",
            "_view_name": "LayoutView",
            "align_content": null,
            "align_items": null,
            "align_self": null,
            "border": null,
            "bottom": null,
            "display": null,
            "flex": null,
            "flex_flow": null,
            "grid_area": null,
            "grid_auto_columns": null,
            "grid_auto_flow": null,
            "grid_auto_rows": null,
            "grid_column": null,
            "grid_gap": null,
            "grid_row": null,
            "grid_template_areas": null,
            "grid_template_columns": null,
            "grid_template_rows": null,
            "height": null,
            "justify_content": null,
            "justify_items": null,
            "left": null,
            "margin": null,
            "max_height": null,
            "max_width": null,
            "min_height": null,
            "min_width": null,
            "object_fit": null,
            "object_position": null,
            "order": null,
            "overflow": null,
            "overflow_x": null,
            "overflow_y": null,
            "padding": null,
            "right": null,
            "top": null,
            "visibility": null,
            "width": null
          }
        },
        "60d7dca2d57140d593581bf159064aa3": {
          "model_module": "@jupyter-widgets/controls",
          "model_name": "ButtonStyleModel",
          "model_module_version": "1.5.0",
          "state": {
            "_model_module": "@jupyter-widgets/controls",
            "_model_module_version": "1.5.0",
            "_model_name": "ButtonStyleModel",
            "_view_count": null,
            "_view_module": "@jupyter-widgets/base",
            "_view_module_version": "1.2.0",
            "_view_name": "StyleView",
            "button_color": null,
            "font_weight": ""
          }
        },
        "7d5fa58ab0314d3685e111ef403b3d7f": {
          "model_module": "@jupyter-widgets/output",
          "model_name": "OutputModel",
          "model_module_version": "1.0.0",
          "state": {
            "_dom_classes": [],
            "_model_module": "@jupyter-widgets/output",
            "_model_module_version": "1.0.0",
            "_model_name": "OutputModel",
            "_view_count": null,
            "_view_module": "@jupyter-widgets/output",
            "_view_module_version": "1.0.0",
            "_view_name": "OutputView",
            "layout": "IPY_MODEL_a25df7339831422c8e36d71bb0657d3a",
            "msg_id": "",
            "outputs": [
              {
                "output_type": "stream",
                "name": "stdout",
                "text": [
                  "This Portfolio is of Medium Risk\n"
                ]
              }
            ]
          }
        },
        "a25df7339831422c8e36d71bb0657d3a": {
          "model_module": "@jupyter-widgets/base",
          "model_name": "LayoutModel",
          "model_module_version": "1.2.0",
          "state": {
            "_model_module": "@jupyter-widgets/base",
            "_model_module_version": "1.2.0",
            "_model_name": "LayoutModel",
            "_view_count": null,
            "_view_module": "@jupyter-widgets/base",
            "_view_module_version": "1.2.0",
            "_view_name": "LayoutView",
            "align_content": null,
            "align_items": null,
            "align_self": null,
            "border": null,
            "bottom": null,
            "display": null,
            "flex": null,
            "flex_flow": null,
            "grid_area": null,
            "grid_auto_columns": null,
            "grid_auto_flow": null,
            "grid_auto_rows": null,
            "grid_column": null,
            "grid_gap": null,
            "grid_row": null,
            "grid_template_areas": null,
            "grid_template_columns": null,
            "grid_template_rows": null,
            "height": null,
            "justify_content": null,
            "justify_items": null,
            "left": null,
            "margin": null,
            "max_height": null,
            "max_width": null,
            "min_height": null,
            "min_width": null,
            "object_fit": null,
            "object_position": null,
            "order": null,
            "overflow": null,
            "overflow_x": null,
            "overflow_y": null,
            "padding": null,
            "right": null,
            "top": null,
            "visibility": null,
            "width": null
          }
        },
        "f5a49f3dca424423a7d3aa2fc029cef7": {
          "model_module": "@jupyter-widgets/controls",
          "model_name": "IntTextModel",
          "model_module_version": "1.5.0",
          "state": {
            "_dom_classes": [],
            "_model_module": "@jupyter-widgets/controls",
            "_model_module_version": "1.5.0",
            "_model_name": "IntTextModel",
            "_view_count": null,
            "_view_module": "@jupyter-widgets/controls",
            "_view_module_version": "1.5.0",
            "_view_name": "IntTextView",
            "continuous_update": false,
            "description": "Initial Loan Balance",
            "description_tooltip": null,
            "disabled": false,
            "layout": "IPY_MODEL_9701cf2ce40f4529bc32c85078fe3508",
            "step": 1,
            "style": "IPY_MODEL_e54f6aff5af44d3992f8e8ac6be23f5a",
            "value": 500000
          }
        },
        "9701cf2ce40f4529bc32c85078fe3508": {
          "model_module": "@jupyter-widgets/base",
          "model_name": "LayoutModel",
          "model_module_version": "1.2.0",
          "state": {
            "_model_module": "@jupyter-widgets/base",
            "_model_module_version": "1.2.0",
            "_model_name": "LayoutModel",
            "_view_count": null,
            "_view_module": "@jupyter-widgets/base",
            "_view_module_version": "1.2.0",
            "_view_name": "LayoutView",
            "align_content": null,
            "align_items": null,
            "align_self": null,
            "border": null,
            "bottom": null,
            "display": null,
            "flex": null,
            "flex_flow": null,
            "grid_area": null,
            "grid_auto_columns": null,
            "grid_auto_flow": null,
            "grid_auto_rows": null,
            "grid_column": null,
            "grid_gap": null,
            "grid_row": null,
            "grid_template_areas": null,
            "grid_template_columns": null,
            "grid_template_rows": null,
            "height": null,
            "justify_content": null,
            "justify_items": null,
            "left": null,
            "margin": null,
            "max_height": null,
            "max_width": null,
            "min_height": null,
            "min_width": null,
            "object_fit": null,
            "object_position": null,
            "order": null,
            "overflow": null,
            "overflow_x": null,
            "overflow_y": null,
            "padding": null,
            "right": null,
            "top": null,
            "visibility": null,
            "width": null
          }
        },
        "e54f6aff5af44d3992f8e8ac6be23f5a": {
          "model_module": "@jupyter-widgets/controls",
          "model_name": "DescriptionStyleModel",
          "model_module_version": "1.5.0",
          "state": {
            "_model_module": "@jupyter-widgets/controls",
            "_model_module_version": "1.5.0",
            "_model_name": "DescriptionStyleModel",
            "_view_count": null,
            "_view_module": "@jupyter-widgets/base",
            "_view_module_version": "1.2.0",
            "_view_name": "StyleView",
            "description_width": ""
          }
        },
        "f76a779506d343a3b20ec5dc1410d1ee": {
          "model_module": "@jupyter-widgets/controls",
          "model_name": "IntTextModel",
          "model_module_version": "1.5.0",
          "state": {
            "_dom_classes": [],
            "_model_module": "@jupyter-widgets/controls",
            "_model_module_version": "1.5.0",
            "_model_name": "IntTextModel",
            "_view_count": null,
            "_view_module": "@jupyter-widgets/controls",
            "_view_module_version": "1.5.0",
            "_view_name": "IntTextView",
            "continuous_update": false,
            "description": "Monthly Payement",
            "description_tooltip": null,
            "disabled": false,
            "layout": "IPY_MODEL_022fd323d19a4dc281cb3da7dae32646",
            "step": 1,
            "style": "IPY_MODEL_c68445ac20ae4f2dbb4820d95d8e2735",
            "value": 25000
          }
        },
        "022fd323d19a4dc281cb3da7dae32646": {
          "model_module": "@jupyter-widgets/base",
          "model_name": "LayoutModel",
          "model_module_version": "1.2.0",
          "state": {
            "_model_module": "@jupyter-widgets/base",
            "_model_module_version": "1.2.0",
            "_model_name": "LayoutModel",
            "_view_count": null,
            "_view_module": "@jupyter-widgets/base",
            "_view_module_version": "1.2.0",
            "_view_name": "LayoutView",
            "align_content": null,
            "align_items": null,
            "align_self": null,
            "border": null,
            "bottom": null,
            "display": null,
            "flex": null,
            "flex_flow": null,
            "grid_area": null,
            "grid_auto_columns": null,
            "grid_auto_flow": null,
            "grid_auto_rows": null,
            "grid_column": null,
            "grid_gap": null,
            "grid_row": null,
            "grid_template_areas": null,
            "grid_template_columns": null,
            "grid_template_rows": null,
            "height": null,
            "justify_content": null,
            "justify_items": null,
            "left": null,
            "margin": null,
            "max_height": null,
            "max_width": null,
            "min_height": null,
            "min_width": null,
            "object_fit": null,
            "object_position": null,
            "order": null,
            "overflow": null,
            "overflow_x": null,
            "overflow_y": null,
            "padding": null,
            "right": null,
            "top": null,
            "visibility": null,
            "width": null
          }
        },
        "c68445ac20ae4f2dbb4820d95d8e2735": {
          "model_module": "@jupyter-widgets/controls",
          "model_name": "DescriptionStyleModel",
          "model_module_version": "1.5.0",
          "state": {
            "_model_module": "@jupyter-widgets/controls",
            "_model_module_version": "1.5.0",
            "_model_name": "DescriptionStyleModel",
            "_view_count": null,
            "_view_module": "@jupyter-widgets/base",
            "_view_module_version": "1.2.0",
            "_view_name": "StyleView",
            "description_width": ""
          }
        },
        "59ed42bfe94f4b1daa6316c861cae6ab": {
          "model_module": "@jupyter-widgets/controls",
          "model_name": "ButtonModel",
          "model_module_version": "1.5.0",
          "state": {
            "_dom_classes": [],
            "_model_module": "@jupyter-widgets/controls",
            "_model_module_version": "1.5.0",
            "_model_name": "ButtonModel",
            "_view_count": null,
            "_view_module": "@jupyter-widgets/controls",
            "_view_module_version": "1.5.0",
            "_view_name": "ButtonView",
            "button_style": "",
            "description": "Track Repayement",
            "disabled": false,
            "icon": "",
            "layout": "IPY_MODEL_5a027d4554284d9196f9a53ea9f46003",
            "style": "IPY_MODEL_64521d4b28684eeca70c1d218edc1ee1",
            "tooltip": ""
          }
        },
        "5a027d4554284d9196f9a53ea9f46003": {
          "model_module": "@jupyter-widgets/base",
          "model_name": "LayoutModel",
          "model_module_version": "1.2.0",
          "state": {
            "_model_module": "@jupyter-widgets/base",
            "_model_module_version": "1.2.0",
            "_model_name": "LayoutModel",
            "_view_count": null,
            "_view_module": "@jupyter-widgets/base",
            "_view_module_version": "1.2.0",
            "_view_name": "LayoutView",
            "align_content": null,
            "align_items": null,
            "align_self": null,
            "border": null,
            "bottom": null,
            "display": null,
            "flex": null,
            "flex_flow": null,
            "grid_area": null,
            "grid_auto_columns": null,
            "grid_auto_flow": null,
            "grid_auto_rows": null,
            "grid_column": null,
            "grid_gap": null,
            "grid_row": null,
            "grid_template_areas": null,
            "grid_template_columns": null,
            "grid_template_rows": null,
            "height": null,
            "justify_content": null,
            "justify_items": null,
            "left": null,
            "margin": null,
            "max_height": null,
            "max_width": null,
            "min_height": null,
            "min_width": null,
            "object_fit": null,
            "object_position": null,
            "order": null,
            "overflow": null,
            "overflow_x": null,
            "overflow_y": null,
            "padding": null,
            "right": null,
            "top": null,
            "visibility": null,
            "width": null
          }
        },
        "64521d4b28684eeca70c1d218edc1ee1": {
          "model_module": "@jupyter-widgets/controls",
          "model_name": "ButtonStyleModel",
          "model_module_version": "1.5.0",
          "state": {
            "_model_module": "@jupyter-widgets/controls",
            "_model_module_version": "1.5.0",
            "_model_name": "ButtonStyleModel",
            "_view_count": null,
            "_view_module": "@jupyter-widgets/base",
            "_view_module_version": "1.2.0",
            "_view_name": "StyleView",
            "button_color": null,
            "font_weight": ""
          }
        },
        "334439a8dcee4abe8fb0ba984b8578df": {
          "model_module": "@jupyter-widgets/output",
          "model_name": "OutputModel",
          "model_module_version": "1.0.0",
          "state": {
            "_dom_classes": [],
            "_model_module": "@jupyter-widgets/output",
            "_model_module_version": "1.0.0",
            "_model_name": "OutputModel",
            "_view_count": null,
            "_view_module": "@jupyter-widgets/output",
            "_view_module_version": "1.0.0",
            "_view_name": "OutputView",
            "layout": "IPY_MODEL_cb1ca08c41414847bdcc2ae74e106d39",
            "msg_id": "",
            "outputs": [
              {
                "output_type": "stream",
                "name": "stdout",
                "text": [
                  "Remaining Loan Balance in Month 1: PKR 500000\n",
                  "Remaining Loan Balance in Month 2: PKR 475000\n",
                  "Remaining Loan Balance in Month 3: PKR 450000\n",
                  "Remaining Loan Balance in Month 4: PKR 425000\n",
                  "Remaining Loan Balance in Month 5: PKR 400000\n",
                  "Remaining Loan Balance in Month 6: PKR 375000\n",
                  "Remaining Loan Balance in Month 7: PKR 350000\n",
                  "Remaining Loan Balance in Month 8: PKR 325000\n",
                  "Remaining Loan Balance in Month 9: PKR 300000\n",
                  "Remaining Loan Balance in Month 10: PKR 275000\n",
                  "Remaining Loan Balance in Month 11: PKR 250000\n",
                  "Remaining Loan Balance in Month 12: PKR 225000\n",
                  "Remaining Loan Balance in Month 13: PKR 200000\n",
                  "Remaining Loan Balance in Month 14: PKR 175000\n",
                  "Remaining Loan Balance in Month 15: PKR 150000\n",
                  "Remaining Loan Balance in Month 16: PKR 125000\n",
                  "Remaining Loan Balance in Month 17: PKR 100000\n",
                  "Remaining Loan Balance in Month 18: PKR 75000\n",
                  "Remaining Loan Balance in Month 19: PKR 50000\n",
                  "Remaining Loan Balance in Month 20: PKR 25000\n",
                  "Loan is Fully Paid\n"
                ]
              }
            ]
          }
        },
        "cb1ca08c41414847bdcc2ae74e106d39": {
          "model_module": "@jupyter-widgets/base",
          "model_name": "LayoutModel",
          "model_module_version": "1.2.0",
          "state": {
            "_model_module": "@jupyter-widgets/base",
            "_model_module_version": "1.2.0",
            "_model_name": "LayoutModel",
            "_view_count": null,
            "_view_module": "@jupyter-widgets/base",
            "_view_module_version": "1.2.0",
            "_view_name": "LayoutView",
            "align_content": null,
            "align_items": null,
            "align_self": null,
            "border": null,
            "bottom": null,
            "display": null,
            "flex": null,
            "flex_flow": null,
            "grid_area": null,
            "grid_auto_columns": null,
            "grid_auto_flow": null,
            "grid_auto_rows": null,
            "grid_column": null,
            "grid_gap": null,
            "grid_row": null,
            "grid_template_areas": null,
            "grid_template_columns": null,
            "grid_template_rows": null,
            "height": null,
            "justify_content": null,
            "justify_items": null,
            "left": null,
            "margin": null,
            "max_height": null,
            "max_width": null,
            "min_height": null,
            "min_width": null,
            "object_fit": null,
            "object_position": null,
            "order": null,
            "overflow": null,
            "overflow_x": null,
            "overflow_y": null,
            "padding": null,
            "right": null,
            "top": null,
            "visibility": null,
            "width": null
          }
        },
        "b775f963d2cf46c49b04a9b9417b1ba7": {
          "model_module": "@jupyter-widgets/controls",
          "model_name": "TextareaModel",
          "model_module_version": "1.5.0",
          "state": {
            "_dom_classes": [],
            "_model_module": "@jupyter-widgets/controls",
            "_model_module_version": "1.5.0",
            "_model_name": "TextareaModel",
            "_view_count": null,
            "_view_module": "@jupyter-widgets/controls",
            "_view_module_version": "1.5.0",
            "_view_name": "TextareaView",
            "continuous_update": true,
            "description": "Stock Prices",
            "description_tooltip": null,
            "disabled": false,
            "layout": "IPY_MODEL_29fda14516724905955977ebaad1b9c6",
            "placeholder": "​",
            "rows": null,
            "style": "IPY_MODEL_da006b89de164d5db38d8ebc31d13aa7",
            "value": "200, none, 100"
          }
        },
        "29fda14516724905955977ebaad1b9c6": {
          "model_module": "@jupyter-widgets/base",
          "model_name": "LayoutModel",
          "model_module_version": "1.2.0",
          "state": {
            "_model_module": "@jupyter-widgets/base",
            "_model_module_version": "1.2.0",
            "_model_name": "LayoutModel",
            "_view_count": null,
            "_view_module": "@jupyter-widgets/base",
            "_view_module_version": "1.2.0",
            "_view_name": "LayoutView",
            "align_content": null,
            "align_items": null,
            "align_self": null,
            "border": null,
            "bottom": null,
            "display": null,
            "flex": null,
            "flex_flow": null,
            "grid_area": null,
            "grid_auto_columns": null,
            "grid_auto_flow": null,
            "grid_auto_rows": null,
            "grid_column": null,
            "grid_gap": null,
            "grid_row": null,
            "grid_template_areas": null,
            "grid_template_columns": null,
            "grid_template_rows": null,
            "height": null,
            "justify_content": null,
            "justify_items": null,
            "left": null,
            "margin": null,
            "max_height": null,
            "max_width": null,
            "min_height": null,
            "min_width": null,
            "object_fit": null,
            "object_position": null,
            "order": null,
            "overflow": null,
            "overflow_x": null,
            "overflow_y": null,
            "padding": null,
            "right": null,
            "top": null,
            "visibility": null,
            "width": null
          }
        },
        "da006b89de164d5db38d8ebc31d13aa7": {
          "model_module": "@jupyter-widgets/controls",
          "model_name": "DescriptionStyleModel",
          "model_module_version": "1.5.0",
          "state": {
            "_model_module": "@jupyter-widgets/controls",
            "_model_module_version": "1.5.0",
            "_model_name": "DescriptionStyleModel",
            "_view_count": null,
            "_view_module": "@jupyter-widgets/base",
            "_view_module_version": "1.2.0",
            "_view_name": "StyleView",
            "description_width": ""
          }
        },
        "8e894db846b44e94b473e06784079086": {
          "model_module": "@jupyter-widgets/controls",
          "model_name": "ButtonModel",
          "model_module_version": "1.5.0",
          "state": {
            "_dom_classes": [],
            "_model_module": "@jupyter-widgets/controls",
            "_model_module_version": "1.5.0",
            "_model_name": "ButtonModel",
            "_view_count": null,
            "_view_module": "@jupyter-widgets/controls",
            "_view_module_version": "1.5.0",
            "_view_name": "ButtonView",
            "button_style": "",
            "description": "Monitor Prices",
            "disabled": false,
            "icon": "",
            "layout": "IPY_MODEL_7cc10db185fc420aa61575d04327b6b7",
            "style": "IPY_MODEL_d6c546837a014d0087607f18c7554245",
            "tooltip": ""
          }
        },
        "7cc10db185fc420aa61575d04327b6b7": {
          "model_module": "@jupyter-widgets/base",
          "model_name": "LayoutModel",
          "model_module_version": "1.2.0",
          "state": {
            "_model_module": "@jupyter-widgets/base",
            "_model_module_version": "1.2.0",
            "_model_name": "LayoutModel",
            "_view_count": null,
            "_view_module": "@jupyter-widgets/base",
            "_view_module_version": "1.2.0",
            "_view_name": "LayoutView",
            "align_content": null,
            "align_items": null,
            "align_self": null,
            "border": null,
            "bottom": null,
            "display": null,
            "flex": null,
            "flex_flow": null,
            "grid_area": null,
            "grid_auto_columns": null,
            "grid_auto_flow": null,
            "grid_auto_rows": null,
            "grid_column": null,
            "grid_gap": null,
            "grid_row": null,
            "grid_template_areas": null,
            "grid_template_columns": null,
            "grid_template_rows": null,
            "height": null,
            "justify_content": null,
            "justify_items": null,
            "left": null,
            "margin": null,
            "max_height": null,
            "max_width": null,
            "min_height": null,
            "min_width": null,
            "object_fit": null,
            "object_position": null,
            "order": null,
            "overflow": null,
            "overflow_x": null,
            "overflow_y": null,
            "padding": null,
            "right": null,
            "top": null,
            "visibility": null,
            "width": null
          }
        },
        "d6c546837a014d0087607f18c7554245": {
          "model_module": "@jupyter-widgets/controls",
          "model_name": "ButtonStyleModel",
          "model_module_version": "1.5.0",
          "state": {
            "_model_module": "@jupyter-widgets/controls",
            "_model_module_version": "1.5.0",
            "_model_name": "ButtonStyleModel",
            "_view_count": null,
            "_view_module": "@jupyter-widgets/base",
            "_view_module_version": "1.2.0",
            "_view_name": "StyleView",
            "button_color": null,
            "font_weight": ""
          }
        },
        "239b993a86e34735a98ea13795744984": {
          "model_module": "@jupyter-widgets/controls",
          "model_name": "IntTextModel",
          "model_module_version": "1.5.0",
          "state": {
            "_dom_classes": [],
            "_model_module": "@jupyter-widgets/controls",
            "_model_module_version": "1.5.0",
            "_model_name": "IntTextModel",
            "_view_count": null,
            "_view_module": "@jupyter-widgets/controls",
            "_view_module_version": "1.5.0",
            "_view_name": "IntTextView",
            "continuous_update": false,
            "description": "Starting Exchange Rate",
            "description_tooltip": null,
            "disabled": false,
            "layout": "IPY_MODEL_6e830194ee804b0a9bb815167570dd11",
            "step": 1,
            "style": "IPY_MODEL_a08a6b1e5a6a4381a3479ec8cbc80a77",
            "value": 290
          }
        },
        "6e830194ee804b0a9bb815167570dd11": {
          "model_module": "@jupyter-widgets/base",
          "model_name": "LayoutModel",
          "model_module_version": "1.2.0",
          "state": {
            "_model_module": "@jupyter-widgets/base",
            "_model_module_version": "1.2.0",
            "_model_name": "LayoutModel",
            "_view_count": null,
            "_view_module": "@jupyter-widgets/base",
            "_view_module_version": "1.2.0",
            "_view_name": "LayoutView",
            "align_content": null,
            "align_items": null,
            "align_self": null,
            "border": null,
            "bottom": null,
            "display": null,
            "flex": null,
            "flex_flow": null,
            "grid_area": null,
            "grid_auto_columns": null,
            "grid_auto_flow": null,
            "grid_auto_rows": null,
            "grid_column": null,
            "grid_gap": null,
            "grid_row": null,
            "grid_template_areas": null,
            "grid_template_columns": null,
            "grid_template_rows": null,
            "height": null,
            "justify_content": null,
            "justify_items": null,
            "left": null,
            "margin": null,
            "max_height": null,
            "max_width": null,
            "min_height": null,
            "min_width": null,
            "object_fit": null,
            "object_position": null,
            "order": null,
            "overflow": null,
            "overflow_x": null,
            "overflow_y": null,
            "padding": null,
            "right": null,
            "top": null,
            "visibility": null,
            "width": null
          }
        },
        "a08a6b1e5a6a4381a3479ec8cbc80a77": {
          "model_module": "@jupyter-widgets/controls",
          "model_name": "DescriptionStyleModel",
          "model_module_version": "1.5.0",
          "state": {
            "_model_module": "@jupyter-widgets/controls",
            "_model_module_version": "1.5.0",
            "_model_name": "DescriptionStyleModel",
            "_view_count": null,
            "_view_module": "@jupyter-widgets/base",
            "_view_module_version": "1.2.0",
            "_view_name": "StyleView",
            "description_width": ""
          }
        },
        "905a2640485543dab21c23b7064eb2c4": {
          "model_module": "@jupyter-widgets/controls",
          "model_name": "IntTextModel",
          "model_module_version": "1.5.0",
          "state": {
            "_dom_classes": [],
            "_model_module": "@jupyter-widgets/controls",
            "_model_module_version": "1.5.0",
            "_model_name": "IntTextModel",
            "_view_count": null,
            "_view_module": "@jupyter-widgets/controls",
            "_view_module_version": "1.5.0",
            "_view_name": "IntTextView",
            "continuous_update": false,
            "description": "Target Exchange Rate",
            "description_tooltip": null,
            "disabled": false,
            "layout": "IPY_MODEL_051652dc88d04d958f5723b140de5d1a",
            "step": 1,
            "style": "IPY_MODEL_ae09188140a94c77b36450598ddef4a8",
            "value": 300
          }
        },
        "051652dc88d04d958f5723b140de5d1a": {
          "model_module": "@jupyter-widgets/base",
          "model_name": "LayoutModel",
          "model_module_version": "1.2.0",
          "state": {
            "_model_module": "@jupyter-widgets/base",
            "_model_module_version": "1.2.0",
            "_model_name": "LayoutModel",
            "_view_count": null,
            "_view_module": "@jupyter-widgets/base",
            "_view_module_version": "1.2.0",
            "_view_name": "LayoutView",
            "align_content": null,
            "align_items": null,
            "align_self": null,
            "border": null,
            "bottom": null,
            "display": null,
            "flex": null,
            "flex_flow": null,
            "grid_area": null,
            "grid_auto_columns": null,
            "grid_auto_flow": null,
            "grid_auto_rows": null,
            "grid_column": null,
            "grid_gap": null,
            "grid_row": null,
            "grid_template_areas": null,
            "grid_template_columns": null,
            "grid_template_rows": null,
            "height": null,
            "justify_content": null,
            "justify_items": null,
            "left": null,
            "margin": null,
            "max_height": null,
            "max_width": null,
            "min_height": null,
            "min_width": null,
            "object_fit": null,
            "object_position": null,
            "order": null,
            "overflow": null,
            "overflow_x": null,
            "overflow_y": null,
            "padding": null,
            "right": null,
            "top": null,
            "visibility": null,
            "width": null
          }
        },
        "ae09188140a94c77b36450598ddef4a8": {
          "model_module": "@jupyter-widgets/controls",
          "model_name": "DescriptionStyleModel",
          "model_module_version": "1.5.0",
          "state": {
            "_model_module": "@jupyter-widgets/controls",
            "_model_module_version": "1.5.0",
            "_model_name": "DescriptionStyleModel",
            "_view_count": null,
            "_view_module": "@jupyter-widgets/base",
            "_view_module_version": "1.2.0",
            "_view_name": "StyleView",
            "description_width": ""
          }
        },
        "24a9cc22bb984a3d9158fd5075031297": {
          "model_module": "@jupyter-widgets/controls",
          "model_name": "ButtonModel",
          "model_module_version": "1.5.0",
          "state": {
            "_dom_classes": [],
            "_model_module": "@jupyter-widgets/controls",
            "_model_module_version": "1.5.0",
            "_model_name": "ButtonModel",
            "_view_count": null,
            "_view_module": "@jupyter-widgets/controls",
            "_view_module_version": "1.5.0",
            "_view_name": "ButtonView",
            "button_style": "",
            "description": "Track Exchange Rate",
            "disabled": false,
            "icon": "",
            "layout": "IPY_MODEL_995b767f1c5a4749a107e0ceb501e643",
            "style": "IPY_MODEL_e46b20bf176b4208bc3bb88cf4161c73",
            "tooltip": ""
          }
        },
        "995b767f1c5a4749a107e0ceb501e643": {
          "model_module": "@jupyter-widgets/base",
          "model_name": "LayoutModel",
          "model_module_version": "1.2.0",
          "state": {
            "_model_module": "@jupyter-widgets/base",
            "_model_module_version": "1.2.0",
            "_model_name": "LayoutModel",
            "_view_count": null,
            "_view_module": "@jupyter-widgets/base",
            "_view_module_version": "1.2.0",
            "_view_name": "LayoutView",
            "align_content": null,
            "align_items": null,
            "align_self": null,
            "border": null,
            "bottom": null,
            "display": null,
            "flex": null,
            "flex_flow": null,
            "grid_area": null,
            "grid_auto_columns": null,
            "grid_auto_flow": null,
            "grid_auto_rows": null,
            "grid_column": null,
            "grid_gap": null,
            "grid_row": null,
            "grid_template_areas": null,
            "grid_template_columns": null,
            "grid_template_rows": null,
            "height": null,
            "justify_content": null,
            "justify_items": null,
            "left": null,
            "margin": null,
            "max_height": null,
            "max_width": null,
            "min_height": null,
            "min_width": null,
            "object_fit": null,
            "object_position": null,
            "order": null,
            "overflow": null,
            "overflow_x": null,
            "overflow_y": null,
            "padding": null,
            "right": null,
            "top": null,
            "visibility": null,
            "width": null
          }
        },
        "e46b20bf176b4208bc3bb88cf4161c73": {
          "model_module": "@jupyter-widgets/controls",
          "model_name": "ButtonStyleModel",
          "model_module_version": "1.5.0",
          "state": {
            "_model_module": "@jupyter-widgets/controls",
            "_model_module_version": "1.5.0",
            "_model_name": "ButtonStyleModel",
            "_view_count": null,
            "_view_module": "@jupyter-widgets/base",
            "_view_module_version": "1.2.0",
            "_view_name": "StyleView",
            "button_color": null,
            "font_weight": ""
          }
        },
        "a50fe18f8487467d9985904dcd949c9a": {
          "model_module": "@jupyter-widgets/output",
          "model_name": "OutputModel",
          "model_module_version": "1.0.0",
          "state": {
            "_dom_classes": [],
            "_model_module": "@jupyter-widgets/output",
            "_model_module_version": "1.0.0",
            "_model_name": "OutputModel",
            "_view_count": null,
            "_view_module": "@jupyter-widgets/output",
            "_view_module_version": "1.0.0",
            "_view_name": "OutputView",
            "layout": "IPY_MODEL_87d2c9ed37744a0986c52b7f0b1452e1",
            "msg_id": "",
            "outputs": [
              {
                "output_type": "stream",
                "name": "stdout",
                "text": [
                  "Exchange Rate on Day 1:PKR290/USD\n",
                  "Exchange Rate on Day 2:PKR291/USD\n",
                  "Exchange Rate on Day 3:PKR292/USD\n",
                  "Exchange Rate on Day 4:PKR293/USD\n",
                  "Exchange Rate on Day 5:PKR294/USD\n",
                  "Exchange Rate on Day 6:PKR295/USD\n",
                  "Exchange Rate on Day 7:PKR296/USD\n",
                  "Exchange Rate on Day 8:PKR297/USD\n",
                  "Exchange Rate on Day 9:PKR298/USD\n",
                  "Exchange Rate on Day 10:PKR299/USD\n",
                  "Exchange Rate on Day 11:PKR300/USD\n",
                  "Target Exchange Rate Reached\n"
                ]
              }
            ]
          }
        },
        "87d2c9ed37744a0986c52b7f0b1452e1": {
          "model_module": "@jupyter-widgets/base",
          "model_name": "LayoutModel",
          "model_module_version": "1.2.0",
          "state": {
            "_model_module": "@jupyter-widgets/base",
            "_model_module_version": "1.2.0",
            "_model_name": "LayoutModel",
            "_view_count": null,
            "_view_module": "@jupyter-widgets/base",
            "_view_module_version": "1.2.0",
            "_view_name": "LayoutView",
            "align_content": null,
            "align_items": null,
            "align_self": null,
            "border": null,
            "bottom": null,
            "display": null,
            "flex": null,
            "flex_flow": null,
            "grid_area": null,
            "grid_auto_columns": null,
            "grid_auto_flow": null,
            "grid_auto_rows": null,
            "grid_column": null,
            "grid_gap": null,
            "grid_row": null,
            "grid_template_areas": null,
            "grid_template_columns": null,
            "grid_template_rows": null,
            "height": null,
            "justify_content": null,
            "justify_items": null,
            "left": null,
            "margin": null,
            "max_height": null,
            "max_width": null,
            "min_height": null,
            "min_width": null,
            "object_fit": null,
            "object_position": null,
            "order": null,
            "overflow": null,
            "overflow_x": null,
            "overflow_y": null,
            "padding": null,
            "right": null,
            "top": null,
            "visibility": null,
            "width": null
          }
        }
      }
    }
  },
  "cells": [
    {
      "cell_type": "markdown",
      "source": [
        "# **AF3005 – Programming for Finance**  \n",
        "\n",
        "---\n",
        "\n",
        "## **📘 Assignment 1: Smart Financial Management System**  \n",
        "\n",
        "📍 **FAST National University of Computer and Emerging Sciences (FAST-NUCES), Islamabad**  \n",
        "👨‍🏫 **Instructor:** Dr. Usama Arshad (Assistant Professor, FSM)  \n",
        "🎓 **Program:** BS Financial Technology (BSFT)  \n",
        "📅 **Semester:** Spring 2025  \n",
        "📌 **Sections:** BSFT06A, BSFT06B, BSFT06C  \n",
        "\n",
        "---\n",
        "\n",
        "## **🎯 Course Learning Outcomes (CLOs)**  \n",
        "- **CLO1:** Write Python programs to solve basic financial problems.  \n",
        "- **CLO2:** Perform data manipulation and analysis using Python libraries.  \n",
        "\n",
        "---\n",
        "\n",
        "\n",
        "\n",
        "\n",
        "\n",
        "\n",
        "\n",
        "\n",
        "\n",
        "\n",
        "\n"
      ],
      "metadata": {
        "id": "5SRLdaqmHtmP"
      }
    },
    {
      "cell_type": "markdown",
      "source": [
        "\n",
        "# **🟢 Deadline: 15th February 2025**\n",
        "\n",
        "---\n",
        "\n"
      ],
      "metadata": {
        "id": "wXgvxhSVQXNz"
      }
    },
    {
      "cell_type": "markdown",
      "source": [
        "## **📥 Submission Guidelines**\n",
        "- **File Format:** Submit your assignment as a Jupyter Notebook file (`.ipynb`).\n",
        "- **Naming Convention:** Use the format `[Your_regno]_AF3005_Assignment1.ipynb`.\n",
        "- **Submission Platform:** Upload your file to **Google Classroom** under the assigned submission.\n",
        "- **GitHub Repository:**\n",
        "  - Create a GitHub repository named `AF3005_ProgrammingForFinance`.\n",
        "  - Upload your `.ipynb` file.\n",
        "  - Ensure the repository is structured properly with a `README.md` explaining the implementation.\n",
        "  - The implementation must include `ipywidgets` for interactive elements.\n",
        "  - Share the GitHub repository link in Google Classroom submission with file.\n",
        "\n",
        "---\n",
        "\n",
        "---\n",
        "\n"
      ],
      "metadata": {
        "id": "mHDXP18hMn3A"
      }
    },
    {
      "cell_type": "markdown",
      "source": [
        "# **🟢 Scenario: Smart Financial Management System [20 marks]**  \n",
        "\n",
        "\n",
        "---\n",
        "\n",
        "\n",
        "SecureBank wants to develop an **automated financial management system** using Python. Your task is to implement different financial operations step by step.\n",
        "\n",
        "This system will:  \n",
        "✅ **Assess customer eligibility for loans.**  \n",
        "✅ **Classify investment portfolios based on risk.**  \n",
        "✅ **Automate loan repayment tracking.**  \n",
        "✅ **Monitor stock market trends and trigger alerts.**  \n",
        "✅ **Track currency exchange rates and suggest conversions.**  \n",
        "\n",
        "Your task is to **break down the requirements, write a structured plan, and implement the logic step by step** using **ipywidgets** for interactive user inputs.\n",
        "\n",
        "---\n",
        "\n"
      ],
      "metadata": {
        "id": "XEanO5EiLdC9"
      }
    },
    {
      "cell_type": "markdown",
      "source": [
        "## **🟢 Part 1: Loan Eligibility & Interest Rate Calculation [4 marks]**  \n",
        "\n",
        "📌 **Requirement:**  \n",
        "SecureBank only approves loans if the **customer meets all eligibility criteria**. The system should:  \n",
        "✔ **Check if the customer is employed.**  \n",
        "✔ **Verify if the income is at least PKR 50,000.**  \n",
        "✔ **Check credit score:**  \n",
        "   - **750+ → 5% Interest Rate**  \n",
        "   - **650 - 749 → 8% Interest Rate**  \n",
        "   - **Below 650 → Loan Rejected**  \n",
        "✔ **If the applicant is unemployed, the loan is rejected immediately.**  \n",
        "\n",
        "### **Implementation Steps:**  \n",
        "🔹 **Step 1:** Structure the `if-elif-else` statements for this logic.  \n",
        "🔹 **Step 2:** Implement a Python program using **ipywidgets** for interactive user input (income, credit score, employment status) to decide whether the loan is approved or rejected.\n",
        "\n",
        "---"
      ],
      "metadata": {
        "id": "sIKHzkmkLYYM"
      }
    },
    {
      "cell_type": "code",
      "source": [
        "import ipywidgets as widgets\n",
        "from IPython.display import display\n",
        "def checkloaneligibility(employement_status,income,credit_score):\n",
        "    if employement_status == 'Unemployed':\n",
        "       return \"Loan Rejected: Applicant must be employed\"\n",
        "    elif income < 50000:\n",
        "         return \"Loan Rejected:Income should be 50000 or greater\"\n",
        "    elif credit_score >= 750:\n",
        "         return \"Customer is eligible at 5% Interest Rate\"\n",
        "    elif  650 <= credit_score <= 749:\n",
        "         return \"Customer is eligible at 8% Interest Rate\"\n",
        "    else:\n",
        "         return \"Loan Rejected:Credit Score is below 650\"\n",
        "employement_widget=widgets.Dropdown(\n",
        "    options=['Employed','Unemployed'],\n",
        "    description = 'Employement'\n",
        ")\n",
        "income_widget = widgets.IntText(\n",
        "    description='Monthly Income'\n",
        ")\n",
        "\n",
        "credit_score_widget = widgets.IntSlider(\n",
        "    min=300, max=1000, step=10, value=700,\n",
        "    description='Credit Score'\n",
        ")\n",
        "output = widgets.Output()\n",
        "\n",
        "def on_submit(_):\n",
        "    with output:\n",
        "        output.clear_output()\n",
        "        result = checkloaneligibility(\n",
        "            employement_widget.value,\n",
        "            income_widget.value,\n",
        "            credit_score_widget.value\n",
        "        )\n",
        "        print(result)\n",
        "\n",
        "submit_button = widgets.Button(description=\"Check Eligibility\")\n",
        "submit_button.on_click(on_submit)\n",
        "\n",
        "display(employement_widget, income_widget, credit_score_widget, submit_button, output)\n"
      ],
      "metadata": {
        "id": "JnoBYZkTKqRw",
        "colab": {
          "base_uri": "https://localhost:8080/",
          "height": 158,
          "referenced_widgets": [
            "68d4a608d1944032a7b44fb9ce72b497",
            "9b6757ac32a347f4a06a491ff54983e3",
            "fbdccbe1b9414140ae0d9c2219dc1787",
            "465cb21da36e437bb87cc245accf7bd2",
            "76aba034676a42e5959db488e2f1d68b",
            "c9013c176a534c8a99df0d4c4b91190e",
            "7f88545e2ae7429da6ce14cbe90bb2a3",
            "050d9e7c8a9846eb81fed7f8f1ffad93",
            "bd1c98c20d86476b966ce22d41114c72",
            "2fd079d709114a4cbee0a5a433dc1dba",
            "d8d8ded95d504cf48159d05d3cf15355",
            "4b5a0fadb682495ba1d0af9c39941c96",
            "8ae0a2f24ebc4237bb4b13430b86bab0",
            "208185d62cb648bf8e2024a1a78387dd"
          ]
        },
        "outputId": "35755f7f-05b3-4d3d-b618-ac0cfee76333"
      },
      "execution_count": 1,
      "outputs": [
        {
          "output_type": "display_data",
          "data": {
            "text/plain": [
              "Dropdown(description='Employement', options=('Employed', 'Unemployed'), value='Employed')"
            ],
            "application/vnd.jupyter.widget-view+json": {
              "version_major": 2,
              "version_minor": 0,
              "model_id": "68d4a608d1944032a7b44fb9ce72b497"
            }
          },
          "metadata": {}
        },
        {
          "output_type": "display_data",
          "data": {
            "text/plain": [
              "IntText(value=0, description='Monthly Income')"
            ],
            "application/vnd.jupyter.widget-view+json": {
              "version_major": 2,
              "version_minor": 0,
              "model_id": "465cb21da36e437bb87cc245accf7bd2"
            }
          },
          "metadata": {}
        },
        {
          "output_type": "display_data",
          "data": {
            "text/plain": [
              "IntSlider(value=700, description='Credit Score', max=1000, min=300, step=10)"
            ],
            "application/vnd.jupyter.widget-view+json": {
              "version_major": 2,
              "version_minor": 0,
              "model_id": "7f88545e2ae7429da6ce14cbe90bb2a3"
            }
          },
          "metadata": {}
        },
        {
          "output_type": "display_data",
          "data": {
            "text/plain": [
              "Button(description='Check Eligibility', style=ButtonStyle())"
            ],
            "application/vnd.jupyter.widget-view+json": {
              "version_major": 2,
              "version_minor": 0,
              "model_id": "2fd079d709114a4cbee0a5a433dc1dba"
            }
          },
          "metadata": {}
        },
        {
          "output_type": "display_data",
          "data": {
            "text/plain": [
              "Output()"
            ],
            "application/vnd.jupyter.widget-view+json": {
              "version_major": 2,
              "version_minor": 0,
              "model_id": "8ae0a2f24ebc4237bb4b13430b86bab0"
            }
          },
          "metadata": {}
        }
      ]
    },
    {
      "cell_type": "markdown",
      "source": [
        "## **🟢 Part 2: Investment Risk Assessment [4 marks]**  \n",
        "\n",
        "📌 **Requirement:**  \n",
        "SecureBank offers **investment analysis services**. The system should evaluate a **portfolio of stocks** and classify the risk level based on stock returns:  \n",
        "✔ If **any stock has a negative return**, the portfolio is **High Risk**.  \n",
        "✔ If **all stocks have positive returns**, but at least one return is below 5%, classify as **Medium Risk**.  \n",
        "✔ If **all stock returns are 5% or above**, classify as **Low Risk**.  \n",
        "\n",
        "### **Implementation Steps:**  \n",
        "🔹 **Step 1:** Use loops to iterate through the list of stock returns.  \n",
        "🔹 **Step 2:** Implement `if-elif` conditions to classify the risk.  \n",
        "🔹 **Step 3:** Write a Python program using **ipywidgets** to allow users to **input stock returns interactively** and receive a risk assessment.\n",
        "\n",
        "---"
      ],
      "metadata": {
        "id": "s66ykZPwKmRL"
      }
    },
    {
      "cell_type": "code",
      "source": [
        "import ipywidgets as widgets\n",
        "from IPython.display import display\n",
        "def checkreturn(stockreturn):\n",
        "    if any(return_ < 0 for return_ in stockreturn):\n",
        "      return \"The portfolio is of High Risk\"\n",
        "    elif all(return_ >= 0.05 for return_ in stockreturn):\n",
        "      return  \"This portfolio is of Low Risk\"\n",
        "    else:\n",
        "      return \"This Portfolio is of Medium Risk\"\n",
        "stockreturn_widget=widgets.Text(\n",
        "    description = 'Stock Return(%)'\n",
        ")\n",
        "output = widgets.Output()\n",
        "def on_submit(_):\n",
        "    with output:\n",
        "        output.clear_output()\n",
        "        try:\n",
        "            stockreturn=list(map(float,stockreturn_widget.value.split(',')))\n",
        "            result = checkreturn(\n",
        "            stockreturn\n",
        "            )\n",
        "            print(result)\n",
        "        except ValueError:\n",
        "               print(\"Invalid Input.Please Enter Numbers Seperated by Commas\")\n",
        "submit_button=widgets.Button(description = \"DO Risk Assessment\")\n",
        "submit_button.on_click(on_submit)\n",
        "display(stockreturn_widget, submit_button, output)"
      ],
      "metadata": {
        "id": "I6Mi2LbOKtym",
        "colab": {
          "base_uri": "https://localhost:8080/",
          "height": 98,
          "referenced_widgets": [
            "a077195e438441acb2fbabb5ef5452a6",
            "bb173be624384099bd31c83e8d8263c8",
            "dab508289cdf43869d4f475718a67aec",
            "bc5700fe7aa040b29e04eaceac2ddbdf",
            "c4c84033e6184fd583c0241f0124ada5",
            "60d7dca2d57140d593581bf159064aa3",
            "7d5fa58ab0314d3685e111ef403b3d7f",
            "a25df7339831422c8e36d71bb0657d3a"
          ]
        },
        "outputId": "f0499855-1404-41ee-be68-a75fcdb563fb"
      },
      "execution_count": 2,
      "outputs": [
        {
          "output_type": "display_data",
          "data": {
            "text/plain": [
              "Text(value='', description='Stock Return(%)')"
            ],
            "application/vnd.jupyter.widget-view+json": {
              "version_major": 2,
              "version_minor": 0,
              "model_id": "a077195e438441acb2fbabb5ef5452a6"
            }
          },
          "metadata": {}
        },
        {
          "output_type": "display_data",
          "data": {
            "text/plain": [
              "Button(description='DO Risk Assessment', style=ButtonStyle())"
            ],
            "application/vnd.jupyter.widget-view+json": {
              "version_major": 2,
              "version_minor": 0,
              "model_id": "bc5700fe7aa040b29e04eaceac2ddbdf"
            }
          },
          "metadata": {}
        },
        {
          "output_type": "display_data",
          "data": {
            "text/plain": [
              "Output()"
            ],
            "application/vnd.jupyter.widget-view+json": {
              "version_major": 2,
              "version_minor": 0,
              "model_id": "7d5fa58ab0314d3685e111ef403b3d7f"
            }
          },
          "metadata": {}
        }
      ]
    },
    {
      "cell_type": "markdown",
      "source": [
        "## **🟢 Part 3: Loan Repayment Tracker [4 marks]**  \n",
        "\n",
        "📌 **Requirement:**  \n",
        "Customers who receive a loan should be able to track their **loan balance** as they make monthly payments. The system should:  \n",
        "✔ Start with an **initial loan balance** (e.g., PKR 500,000).  \n",
        "✔ Deduct a **fixed monthly payment** (e.g., PKR 25,000).  \n",
        "✔ Continue tracking until **loan balance reaches zero**.  \n",
        "✔ Display the remaining balance **after each payment**.  \n",
        "\n",
        "### **Implementation Steps:**  \n",
        "🔹 **Step 1:** Choose an appropriate loop (`for` or `while`).  \n",
        "🔹 **Step 2:** Ensure the loop **stops once the loan is fully paid**.  \n",
        "🔹 **Step 3:** Implement a Python program using **ipywidgets** to **simulate loan repayment interactively**.\n",
        "\n",
        "---"
      ],
      "metadata": {
        "id": "xTrlsvaZKhaQ"
      }
    },
    {
      "cell_type": "code",
      "source": [
        "import ipywidgets as widgets\n",
        "from IPython.display import display\n",
        "def trackloanrepayement(initialbalance,monthlypayement):\n",
        "    month =1\n",
        "    while initialbalance > 0:\n",
        "      print(f\"Remaining Loan Balance in Month {month}: PKR {initialbalance}\")\n",
        "      initialbalance-=monthlypayement\n",
        "      month+=1\n",
        "      if initialbalance<0:\n",
        "          initialbalance=0\n",
        "    print(\"Loan is Fully Paid\")\n",
        "loan_balance_widget=widgets.IntText(\n",
        "    value =500000,\n",
        "    description = 'Initial Loan Balance'\n",
        ")\n",
        "monthly_payement_widget=widgets.IntText(\n",
        "    value =25000,\n",
        "    description = 'Monthly Payement'\n",
        ")\n",
        "output_loan_repayement = widgets.Output()\n",
        "def on_submit_repayement(_):\n",
        "    with output_loan_repayement:\n",
        "        output_loan_repayement.clear_output()\n",
        "        trackloanrepayement(loan_balance_widget.value, monthly_payement_widget.value )\n",
        "\n",
        "submit_button_repayement=widgets.Button(description = \"Track Repayement\")\n",
        "submit_button_repayement.on_click(on_submit_repayement)\n",
        "display(loan_balance_widget, monthly_payement_widget, submit_button_repayement, output_loan_repayement)"
      ],
      "metadata": {
        "id": "h3V9vFDjKvGH",
        "colab": {
          "base_uri": "https://localhost:8080/",
          "height": 476,
          "referenced_widgets": [
            "f5a49f3dca424423a7d3aa2fc029cef7",
            "9701cf2ce40f4529bc32c85078fe3508",
            "e54f6aff5af44d3992f8e8ac6be23f5a",
            "f76a779506d343a3b20ec5dc1410d1ee",
            "022fd323d19a4dc281cb3da7dae32646",
            "c68445ac20ae4f2dbb4820d95d8e2735",
            "59ed42bfe94f4b1daa6316c861cae6ab",
            "5a027d4554284d9196f9a53ea9f46003",
            "64521d4b28684eeca70c1d218edc1ee1",
            "334439a8dcee4abe8fb0ba984b8578df",
            "cb1ca08c41414847bdcc2ae74e106d39"
          ]
        },
        "outputId": "78a20457-4af9-46ea-8e39-7dd805ea3e69"
      },
      "execution_count": 5,
      "outputs": [
        {
          "output_type": "display_data",
          "data": {
            "text/plain": [
              "IntText(value=500000, description='Initial Loan Balance')"
            ],
            "application/vnd.jupyter.widget-view+json": {
              "version_major": 2,
              "version_minor": 0,
              "model_id": "f5a49f3dca424423a7d3aa2fc029cef7"
            }
          },
          "metadata": {}
        },
        {
          "output_type": "display_data",
          "data": {
            "text/plain": [
              "IntText(value=25000, description='Monthly Payement')"
            ],
            "application/vnd.jupyter.widget-view+json": {
              "version_major": 2,
              "version_minor": 0,
              "model_id": "f76a779506d343a3b20ec5dc1410d1ee"
            }
          },
          "metadata": {}
        },
        {
          "output_type": "display_data",
          "data": {
            "text/plain": [
              "Button(description='Track Repayement', style=ButtonStyle())"
            ],
            "application/vnd.jupyter.widget-view+json": {
              "version_major": 2,
              "version_minor": 0,
              "model_id": "59ed42bfe94f4b1daa6316c861cae6ab"
            }
          },
          "metadata": {}
        },
        {
          "output_type": "display_data",
          "data": {
            "text/plain": [
              "Output()"
            ],
            "application/vnd.jupyter.widget-view+json": {
              "version_major": 2,
              "version_minor": 0,
              "model_id": "334439a8dcee4abe8fb0ba984b8578df"
            }
          },
          "metadata": {}
        }
      ]
    },
    {
      "cell_type": "markdown",
      "source": [
        "\n",
        "## **🟢 Part 4: Stock Price Monitoring and Trading Strategy [4 marks]**  \n",
        "\n",
        "📌 **Requirement:**  \n",
        "A stock trader wants to **track stock prices daily** and **sell when the price reaches PKR 200**. The system should:  \n",
        "✔ Iterate through a **list of stock prices**.  \n",
        "✔ **Skip missing stock data** (`None` values).  \n",
        "✔ Stop tracking **once the price reaches PKR 200**.  \n",
        "\n",
        "### **Implementation Steps:**  \n",
        "🔹 **Step 1:** Handle missing stock data using `continue`.  \n",
        "🔹 **Step 2:** Stop tracking once the stock hits the target price (`break`).  \n",
        "🔹 **Step 3:** Write a Python program using **ipywidgets** to **process stock prices interactively** and trigger alerts when conditions are met.\n",
        "\n",
        "---"
      ],
      "metadata": {
        "id": "3V72WRTcKc17"
      }
    },
    {
      "cell_type": "code",
      "source": [
        "from pickle import TRUE\n",
        "import ipywidgets as widgets\n",
        "from IPython.display import display\n",
        "def monitor_stock_prices(stock_prices):\n",
        "    for price in stock_prices:\n",
        "        if price  is None:\n",
        "           print(\"Missing Data Encountered.SO, Skipping It\")\n",
        "           continue\n",
        "        if price >=200:\n",
        "           print(f\"Stock Price Reached PKR {price}.Selling Now\")\n",
        "           break\n",
        "        print(f\"Current Stock Price: PKR {price}\")\n",
        "def on_button_click(b):\n",
        "    input_prices=price_input.value.strip()\n",
        "    stock_prices=[]\n",
        "    for item in input_prices.split(','):\n",
        "        if item.strip().lower()=='none':\n",
        "           stock_prices.append(None)\n",
        "        else:\n",
        "            try:\n",
        "                stock_prices.append(float(item.strip()))\n",
        "            except ValueError:\n",
        "                print(f\"Invalid Input:{item}.Skipping\")\n",
        "                stock_prices.append(None)\n",
        "    monitor_stock_prices(stock_prices)\n",
        "price_input=widgets.Textarea(\n",
        "    description =\"Stock Prices\"\n",
        ")\n",
        "submit_button=widgets.Button(description=\"Monitor Prices\")\n",
        "submit_button.on_click(on_button_click)\n",
        "display(price_input, submit_button)"
      ],
      "metadata": {
        "id": "G4v6qt6GKwFN",
        "colab": {
          "base_uri": "https://localhost:8080/",
          "height": 111,
          "referenced_widgets": [
            "b775f963d2cf46c49b04a9b9417b1ba7",
            "29fda14516724905955977ebaad1b9c6",
            "da006b89de164d5db38d8ebc31d13aa7",
            "8e894db846b44e94b473e06784079086",
            "7cc10db185fc420aa61575d04327b6b7",
            "d6c546837a014d0087607f18c7554245"
          ]
        },
        "outputId": "a7512fbb-ba9c-42b9-f7da-902b6874ad64"
      },
      "execution_count": 7,
      "outputs": [
        {
          "output_type": "display_data",
          "data": {
            "text/plain": [
              "Textarea(value='', description='Stock Prices')"
            ],
            "application/vnd.jupyter.widget-view+json": {
              "version_major": 2,
              "version_minor": 0,
              "model_id": "b775f963d2cf46c49b04a9b9417b1ba7"
            }
          },
          "metadata": {}
        },
        {
          "output_type": "display_data",
          "data": {
            "text/plain": [
              "Button(description='Monitor Prices', style=ButtonStyle())"
            ],
            "application/vnd.jupyter.widget-view+json": {
              "version_major": 2,
              "version_minor": 0,
              "model_id": "8e894db846b44e94b473e06784079086"
            }
          },
          "metadata": {}
        },
        {
          "output_type": "stream",
          "name": "stdout",
          "text": [
            "Stock Price Reached PKR 200.0.Selling Now\n"
          ]
        }
      ]
    },
    {
      "cell_type": "markdown",
      "source": [
        "\n",
        "## **🟢 Part 5: Currency Exchange Rate Tracker [4 marks]**  \n",
        "\n",
        "📌 **Requirement:**  \n",
        "SecureBank provides **real-time currency exchange tracking**. The system should:  \n",
        "✔ Start at **PKR 290/USD**.  \n",
        "✔ Increase by **1 PKR per day** until it reaches **PKR 300/USD**.  \n",
        "✔ Print exchange rates daily and stop when the **target rate is reached**.  \n",
        "\n",
        "### **Implementation Steps:**  \n",
        "🔹 **Step 1:** Choose a suitable loop (`for` or `while`).  \n",
        "🔹 **Step 2:** Stop the loop when the exchange rate reaches the target.  \n",
        "🔹 **Step 3:** Implement a Python program using **ipywidgets** to **track the currency exchange rate interactively**.\n",
        "\n",
        "---"
      ],
      "metadata": {
        "id": "lD82JT7-KXqK"
      }
    },
    {
      "cell_type": "code",
      "source": [
        "import ipywidgets as widgets\n",
        "from IPython.display import display\n",
        "def track_exchange_rate(start_rate,end_rate):\n",
        "    day=1\n",
        "    while start_rate <= end_rate:\n",
        "          print(f\"Exchange Rate on Day {day}:PKR{start_rate}/USD\")\n",
        "          start_rate+=1\n",
        "          day+=1\n",
        "    print(\"Target Exchange Rate Reached\")\n",
        "start_rate_widget = widgets.IntText(\n",
        "    value=290,\n",
        "    description='Starting Exchange Rate'\n",
        ")\n",
        "end_rate_widget = widgets.IntText(\n",
        "    value=300,\n",
        "    description= 'Target Exchange Rate'\n",
        ")\n",
        "output_exchange_rate = widgets.Output()\n",
        "\n",
        "def on_submit_exchange_rate(_):\n",
        "    with output_exchange_rate:\n",
        "        output_exchange_rate.clear_output()\n",
        "        track_exchange_rate(start_rate_widget.value, end_rate_widget.value)\n",
        "submit_button_exchange_rate=widgets.Button(description=\"Track Exchange Rate\")\n",
        "submit_button_exchange_rate.on_click(on_submit_exchange_rate)\n",
        "display(start_rate_widget,end_rate_widget,submit_button_exchange_rate, output_exchange_rate)\n"
      ],
      "metadata": {
        "id": "3xiDWiabKwfr",
        "colab": {
          "base_uri": "https://localhost:8080/",
          "height": 319,
          "referenced_widgets": [
            "239b993a86e34735a98ea13795744984",
            "6e830194ee804b0a9bb815167570dd11",
            "a08a6b1e5a6a4381a3479ec8cbc80a77",
            "905a2640485543dab21c23b7064eb2c4",
            "051652dc88d04d958f5723b140de5d1a",
            "ae09188140a94c77b36450598ddef4a8",
            "24a9cc22bb984a3d9158fd5075031297",
            "995b767f1c5a4749a107e0ceb501e643",
            "e46b20bf176b4208bc3bb88cf4161c73",
            "a50fe18f8487467d9985904dcd949c9a",
            "87d2c9ed37744a0986c52b7f0b1452e1"
          ]
        },
        "outputId": "42ad95b2-ec4f-49b8-92bc-d4eb9c1c2c23"
      },
      "execution_count": 9,
      "outputs": [
        {
          "output_type": "display_data",
          "data": {
            "text/plain": [
              "IntText(value=290, description='Starting Exchange Rate')"
            ],
            "application/vnd.jupyter.widget-view+json": {
              "version_major": 2,
              "version_minor": 0,
              "model_id": "239b993a86e34735a98ea13795744984"
            }
          },
          "metadata": {}
        },
        {
          "output_type": "display_data",
          "data": {
            "text/plain": [
              "IntText(value=300, description='Target Exchange Rate')"
            ],
            "application/vnd.jupyter.widget-view+json": {
              "version_major": 2,
              "version_minor": 0,
              "model_id": "905a2640485543dab21c23b7064eb2c4"
            }
          },
          "metadata": {}
        },
        {
          "output_type": "display_data",
          "data": {
            "text/plain": [
              "Button(description='Track Exchange Rate', style=ButtonStyle())"
            ],
            "application/vnd.jupyter.widget-view+json": {
              "version_major": 2,
              "version_minor": 0,
              "model_id": "24a9cc22bb984a3d9158fd5075031297"
            }
          },
          "metadata": {}
        },
        {
          "output_type": "display_data",
          "data": {
            "text/plain": [
              "Output()"
            ],
            "application/vnd.jupyter.widget-view+json": {
              "version_major": 2,
              "version_minor": 0,
              "model_id": "a50fe18f8487467d9985904dcd949c9a"
            }
          },
          "metadata": {}
        }
      ]
    },
    {
      "cell_type": "markdown",
      "source": [
        "*   \n",
        "*\n",
        "*   \n",
        "*   \n",
        "*   \n",
        "*\n",
        "*   \n",
        "*"
      ],
      "metadata": {
        "id": "-gpSKR0APnLP"
      }
    },
    {
      "cell_type": "markdown",
      "source": [
        "\n",
        "\n",
        "---\n",
        "\n",
        "\n",
        "======================================== *to err is human* ========================================\n",
        "\n",
        "\n",
        "---\n",
        "\n"
      ],
      "metadata": {
        "id": "hUFnFKjmKxeH"
      }
    },
    {
      "cell_type": "markdown",
      "source": [
        "*   \n",
        "*\n",
        "*   \n",
        "*   \n",
        "*   \n",
        "*\n",
        "*   \n",
        "*\n",
        "\n",
        "---\n",
        "\n",
        "## **🎯 Grading Rubric (20 Marks)**  \n",
        "\n",
        "| **Criteria**           | **🌟 Excellent (4 Marks)** | **✅ Good (3 Marks)** | **⚠️ Satisfactory (2 Marks)** | **❌ Needs Improvement (1 Mark)** | **🚫 No Attempt (0 Marks)** |\n",
        "|------------------------|-----------------------|------------------|----------------------|----------------------|----------------------|\n",
        "| **📝 Loan Eligibility System**  | ✅ Correct logic with `ipywidgets`, handles user input well. | ⚠️ Mostly correct logic, minor issues. | ❌ Basic logic but missing conditions. | 🚫 Major errors in implementation. | ❌ No implementation. |\n",
        "| **📊 Investment Risk Assessment**  | ✅ Efficient looping with correct risk classification and `ipywidgets`. | ⚠️ Minor issues in logic or implementation. | ❌ Some conditions missing, basic implementation. | 🚫 Incorrect or incomplete logic. | ❌ No implementation. |\n",
        "| **💰 Loan Repayment Tracker**  | ✅ Tracks repayment correctly, interactive using `ipywidgets`. | ⚠️ Correct logic but missing interactivity. | ❌ Loop present but some logic missing. | 🚫 Incorrect approach. | ❌ No implementation. |\n",
        "| **📈 Stock Price Monitoring**  | ✅ Proper use of `continue` and `break`, handles missing values. | ⚠️ Minor logic issues, mostly correct. | ❌ Some conditions missing, partially correct. | 🚫 Incorrect logic, missing key elements. | ❌ No implementation. |\n",
        "| **💹 Currency Exchange Tracker**  | ✅ Correct loop, stops at target rate, structured well with `ipywidgets`. | ⚠️ Mostly correct, minor inefficiencies. | ❌ Incorrect stopping condition, basic implementation. | 🚫 Incorrect approach. | ❌ No implementation. |\n",
        "| **📜 Code Quality & Structure**  | ✅ Well-commented, clean code, follows best practices. | ⚠️ Mostly structured but needs better readability. | ❌ Works but lacks clarity. | 🚫 Unstructured, lacks comments. | ❌ No code present. |\n",
        "| **🎛️ Use of `ipywidgets`** | ✅ Used effectively in all parts, enhances interactivity. | ⚠️ Used in most parts but minor inefficiencies. | ❌ Implemented but not fully functional. | 🚫 Attempted but not used correctly. | ❌ No implementation. |\n",
        "| **📂 GitHub Submission & Documentation** | ✅ Well-structured repo, proper `README.md`. | ⚠️ Repo exists but lacks structured documentation. | ❌ Basic submission, missing details. | 🚫 Attempted but incomplete. | ❌ No submission. |\n",
        "| **📤 Google Classroom Submission** | ✅ Submitted correctly with all required elements. | ⚠️ Submitted but missing minor details. | ❌ Late submission or incomplete. | 🚫 Attempted but missing key parts. | ❌ No submission. |\n",
        "| **🔎 Overall Implementation & Accuracy** | ✅ All features implemented correctly, runs smoothly. | ⚠️ Most features implemented, minor issues. | ❌ Some features missing but basic functionality works. | 🚫 Major features missing. | ❌ No implementation. |\n",
        "\n",
        "---\n",
        "\n"
      ],
      "metadata": {
        "id": "E2rlRDSuPPRt"
      }
    },
    {
      "cell_type": "markdown",
      "source": [
        "*Follow the deadline. This is an individual assignment. Do not copy/paste from LLMs or from other students.*"
      ],
      "metadata": {
        "id": "-_kwwSB6PiZp"
      }
    }
  ]
}